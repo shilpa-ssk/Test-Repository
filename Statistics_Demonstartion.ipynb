{
 "cells": [
  {
   "cell_type": "code",
   "execution_count": 1,
   "id": "9291f4e7-2558-421b-ab50-2c964997d262",
   "metadata": {},
   "outputs": [],
   "source": [
    "import numpy as np\n",
    "import scipy.stats as ss"
   ]
  },
  {
   "cell_type": "code",
   "execution_count": 2,
   "id": "f3bb3998-1871-459f-85ed-600bad1c3a68",
   "metadata": {},
   "outputs": [],
   "source": [
    "# calculating probabilities\n",
    "n=10\n",
    "p=0.4\n",
    "r=4"
   ]
  },
  {
   "cell_type": "code",
   "execution_count": 3,
   "id": "ce13e100-d76e-4df0-87f0-397515b8c73d",
   "metadata": {},
   "outputs": [
    {
     "data": {
      "text/plain": [
       "\u001b[1;31mSignature:\u001b[0m \u001b[0mss\u001b[0m\u001b[1;33m.\u001b[0m\u001b[0mbinom\u001b[0m\u001b[1;33m.\u001b[0m\u001b[0mpmf\u001b[0m\u001b[1;33m(\u001b[0m\u001b[0mk\u001b[0m\u001b[1;33m,\u001b[0m \u001b[1;33m*\u001b[0m\u001b[0margs\u001b[0m\u001b[1;33m,\u001b[0m \u001b[1;33m**\u001b[0m\u001b[0mkwds\u001b[0m\u001b[1;33m)\u001b[0m\u001b[1;33m\u001b[0m\u001b[1;33m\u001b[0m\u001b[0m\n",
       "\u001b[1;31mDocstring:\u001b[0m\n",
       "Probability mass function at k of the given RV.\n",
       "\n",
       "Parameters\n",
       "----------\n",
       "k : array_like\n",
       "    Quantiles.\n",
       "arg1, arg2, arg3,... : array_like\n",
       "    The shape parameter(s) for the distribution (see docstring of the\n",
       "    instance object for more information)\n",
       "loc : array_like, optional\n",
       "    Location parameter (default=0).\n",
       "\n",
       "Returns\n",
       "-------\n",
       "pmf : array_like\n",
       "    Probability mass function evaluated at k\n",
       "\u001b[1;31mFile:\u001b[0m      c:\\users\\deepa\\anaconda3\\lib\\site-packages\\scipy\\stats\\_distn_infrastructure.py\n",
       "\u001b[1;31mType:\u001b[0m      method"
      ]
     },
     "metadata": {},
     "output_type": "display_data"
    }
   ],
   "source": [
    "# calculate the binomial probability using binom.pmf\n",
    "?ss.binom.pmf"
   ]
  },
  {
   "cell_type": "code",
   "execution_count": 4,
   "id": "c9501076-a58b-45cf-b555-f0083d9ee1d3",
   "metadata": {},
   "outputs": [
    {
     "data": {
      "text/plain": [
       "0.25082265599999987"
      ]
     },
     "execution_count": 4,
     "metadata": {},
     "output_type": "execute_result"
    }
   ],
   "source": [
    "ss.binom.pmf(r,n,p)"
   ]
  },
  {
   "cell_type": "code",
   "execution_count": 7,
   "id": "62c621b7-efe9-4483-a4ad-ad4bea91dac5",
   "metadata": {},
   "outputs": [
    {
     "data": {
      "text/plain": [
       "0.251"
      ]
     },
     "execution_count": 7,
     "metadata": {},
     "output_type": "execute_result"
    }
   ],
   "source": [
    "# round the values to 3 digits\n",
    "np.round(ss.binom.pmf(r,n,p),3)"
   ]
  },
  {
   "cell_type": "code",
   "execution_count": 6,
   "id": "5afff2d6-11cf-4330-b7f6-36141a5cdf2f",
   "metadata": {},
   "outputs": [
    {
     "data": {
      "text/plain": [
       "\u001b[1;31mSignature:\u001b[0m \u001b[0mss\u001b[0m\u001b[1;33m.\u001b[0m\u001b[0mbinom\u001b[0m\u001b[1;33m.\u001b[0m\u001b[0mcdf\u001b[0m\u001b[1;33m(\u001b[0m\u001b[0mk\u001b[0m\u001b[1;33m,\u001b[0m \u001b[1;33m*\u001b[0m\u001b[0margs\u001b[0m\u001b[1;33m,\u001b[0m \u001b[1;33m**\u001b[0m\u001b[0mkwds\u001b[0m\u001b[1;33m)\u001b[0m\u001b[1;33m\u001b[0m\u001b[1;33m\u001b[0m\u001b[0m\n",
       "\u001b[1;31mDocstring:\u001b[0m\n",
       "Cumulative distribution function of the given RV.\n",
       "\n",
       "Parameters\n",
       "----------\n",
       "k : array_like, int\n",
       "    Quantiles.\n",
       "arg1, arg2, arg3,... : array_like\n",
       "    The shape parameter(s) for the distribution (see docstring of the\n",
       "    instance object for more information).\n",
       "loc : array_like, optional\n",
       "    Location parameter (default=0).\n",
       "\n",
       "Returns\n",
       "-------\n",
       "cdf : ndarray\n",
       "    Cumulative distribution function evaluated at `k`.\n",
       "\u001b[1;31mFile:\u001b[0m      c:\\users\\deepa\\anaconda3\\lib\\site-packages\\scipy\\stats\\_distn_infrastructure.py\n",
       "\u001b[1;31mType:\u001b[0m      method"
      ]
     },
     "metadata": {},
     "output_type": "display_data"
    }
   ],
   "source": [
    "# Caculating probability for\n",
    "# P(X<=r)\n",
    "# Use the binom.cdf function\n",
    "?ss.binom.cdf"
   ]
  },
  {
   "cell_type": "code",
   "execution_count": 9,
   "id": "cac48f5f-3bda-4b33-87c9-937118cd57e8",
   "metadata": {},
   "outputs": [
    {
     "data": {
      "text/plain": [
       "0.633"
      ]
     },
     "execution_count": 9,
     "metadata": {},
     "output_type": "execute_result"
    }
   ],
   "source": [
    "np.round(ss.binom.cdf(r,n,p),3)"
   ]
  },
  {
   "cell_type": "code",
   "execution_count": 11,
   "id": "bf435238-f42a-42f1-beb9-8e767463dd9e",
   "metadata": {},
   "outputs": [],
   "source": [
    "# Normal distribution\n",
    "M=60\n",
    "sd=10\n",
    "x=40"
   ]
  },
  {
   "cell_type": "code",
   "execution_count": 12,
   "id": "61b4cd1d-39c9-4289-ab3e-8678dcd4a7b0",
   "metadata": {},
   "outputs": [],
   "source": [
    "#Compute P(X<=x) we will use cdf function"
   ]
  },
  {
   "cell_type": "code",
   "execution_count": 13,
   "id": "f10ff399-acd5-4ac0-9529-1ce30102905e",
   "metadata": {},
   "outputs": [
    {
     "data": {
      "text/plain": [
       "\u001b[1;31mSignature:\u001b[0m \u001b[0mss\u001b[0m\u001b[1;33m.\u001b[0m\u001b[0mnorm\u001b[0m\u001b[1;33m.\u001b[0m\u001b[0mcdf\u001b[0m\u001b[1;33m(\u001b[0m\u001b[0mx\u001b[0m\u001b[1;33m,\u001b[0m \u001b[1;33m*\u001b[0m\u001b[0margs\u001b[0m\u001b[1;33m,\u001b[0m \u001b[1;33m**\u001b[0m\u001b[0mkwds\u001b[0m\u001b[1;33m)\u001b[0m\u001b[1;33m\u001b[0m\u001b[1;33m\u001b[0m\u001b[0m\n",
       "\u001b[1;31mDocstring:\u001b[0m\n",
       "Cumulative distribution function of the given RV.\n",
       "\n",
       "Parameters\n",
       "----------\n",
       "x : array_like\n",
       "    quantiles\n",
       "arg1, arg2, arg3,... : array_like\n",
       "    The shape parameter(s) for the distribution (see docstring of the\n",
       "    instance object for more information)\n",
       "loc : array_like, optional\n",
       "    location parameter (default=0)\n",
       "scale : array_like, optional\n",
       "    scale parameter (default=1)\n",
       "\n",
       "Returns\n",
       "-------\n",
       "cdf : ndarray\n",
       "    Cumulative distribution function evaluated at `x`\n",
       "\u001b[1;31mFile:\u001b[0m      c:\\users\\deepa\\anaconda3\\lib\\site-packages\\scipy\\stats\\_distn_infrastructure.py\n",
       "\u001b[1;31mType:\u001b[0m      method"
      ]
     },
     "metadata": {},
     "output_type": "display_data"
    }
   ],
   "source": [
    "?ss.norm.cdf"
   ]
  },
  {
   "cell_type": "code",
   "execution_count": 14,
   "id": "1a6968f1-a696-4776-b18b-252754b24124",
   "metadata": {},
   "outputs": [
    {
     "data": {
      "text/plain": [
       "0.023"
      ]
     },
     "execution_count": 14,
     "metadata": {},
     "output_type": "execute_result"
    }
   ],
   "source": [
    "np.round(ss.norm.cdf(x,M,sd),3)"
   ]
  },
  {
   "cell_type": "code",
   "execution_count": 16,
   "id": "20e87025-a4df-48d5-89c2-26dd271311ef",
   "metadata": {},
   "outputs": [
    {
     "data": {
      "text/plain": [
       "0.022750131948179195"
      ]
     },
     "execution_count": 16,
     "metadata": {},
     "output_type": "execute_result"
    }
   ],
   "source": [
    "ss.norm(60,10).cdf(40)"
   ]
  },
  {
   "cell_type": "code",
   "execution_count": 18,
   "id": "1453785f-8d7e-4313-8ef6-905a82f042ce",
   "metadata": {},
   "outputs": [
    {
     "data": {
      "text/plain": [
       "0.9544997361036416"
      ]
     },
     "execution_count": 18,
     "metadata": {},
     "output_type": "execute_result"
    }
   ],
   "source": [
    "# CAlculate the difference\n",
    "ss.norm.cdf(80,60,10)-ss.norm.cdf(40,60,10)"
   ]
  },
  {
   "cell_type": "code",
   "execution_count": 20,
   "id": "af764146-b267-416f-b98c-9bf23ab388b6",
   "metadata": {},
   "outputs": [],
   "source": [
    "#generate randon numbers belonging to a paticular distribution\n",
    "#Generate 10 random numbers from the binomial distribution with n=10 , p=0.4,size=10(total no of random numbers that you want to geneate\n",
    "n=10\n",
    "p=0.4\n",
    "size=10"
   ]
  },
  {
   "cell_type": "code",
   "execution_count": 21,
   "id": "efa0025a-dd8b-4e17-872d-43a09a00aefa",
   "metadata": {},
   "outputs": [
    {
     "data": {
      "text/plain": [
       "array([6, 1, 5, 3, 7, 4, 1, 3, 2, 6])"
      ]
     },
     "execution_count": 21,
     "metadata": {},
     "output_type": "execute_result"
    }
   ],
   "source": [
    "np.random.binomial(n,p,size)"
   ]
  },
  {
   "cell_type": "code",
   "execution_count": 23,
   "id": "eec6dcbc-8037-4049-bc4a-52d07edb854a",
   "metadata": {},
   "outputs": [],
   "source": [
    "#generate random numbers for normal distribution\n",
    "# We will generate total number of 10 numbers\n",
    "M=60\n",
    "sd=10"
   ]
  },
  {
   "cell_type": "code",
   "execution_count": 24,
   "id": "6e87d1cb-4b71-4a86-878e-f5c471072b4b",
   "metadata": {},
   "outputs": [
    {
     "data": {
      "text/plain": [
       "array([57.56332793, 65.28403771, 38.03908923, 75.63616179, 73.39889757,\n",
       "       75.66136245, 72.54993774, 62.90752577, 71.64538704, 61.04277952])"
      ]
     },
     "execution_count": 24,
     "metadata": {},
     "output_type": "execute_result"
    }
   ],
   "source": [
    "np.random.normal(M,sd,10)"
   ]
  },
  {
   "cell_type": "code",
   "execution_count": 33,
   "id": "7bb65c31-6f3c-42ba-83f2-07039bb4dba4",
   "metadata": {},
   "outputs": [],
   "source": [
    "#Use of seed to generate the same random numbers everytime the code is executed\n",
    "seed=100\n",
    "np.random.seed(100)"
   ]
  },
  {
   "cell_type": "code",
   "execution_count": 32,
   "id": "08b18536-890e-4ca2-9b44-3f97f780d751",
   "metadata": {},
   "outputs": [
    {
     "data": {
      "text/plain": [
       "array([42.50234527, 63.42680403, 71.53035803, 57.47563963, 69.81320787,\n",
       "       65.14218841, 62.21179669, 49.29956669, 58.10504169, 62.55001444])"
      ]
     },
     "execution_count": 32,
     "metadata": {},
     "output_type": "execute_result"
    }
   ],
   "source": [
    "np.random.normal(M,sd,10)"
   ]
  },
  {
   "cell_type": "code",
   "execution_count": 34,
   "id": "6e8252f0-0d81-4f59-a861-19c464358cfb",
   "metadata": {},
   "outputs": [
    {
     "data": {
      "text/plain": [
       "array([42.50234527, 63.42680403, 71.53035803, 57.47563963, 69.81320787,\n",
       "       65.14218841, 62.21179669, 49.29956669, 58.10504169, 62.55001444])"
      ]
     },
     "execution_count": 34,
     "metadata": {},
     "output_type": "execute_result"
    }
   ],
   "source": [
    "np.random.normal(M,sd,10)"
   ]
  },
  {
   "cell_type": "code",
   "execution_count": 35,
   "id": "b0bde7a1-8e7c-4bd3-9e0d-6c2fb901ce2d",
   "metadata": {},
   "outputs": [],
   "source": [
    "#In order to geneate the same random numbers we need to re-execute the seed first"
   ]
  },
  {
   "cell_type": "code",
   "execution_count": 36,
   "id": "627afc28-1100-405d-8d81-5503ee1f5004",
   "metadata": {},
   "outputs": [],
   "source": [
    "#Given a list containing nu numbers find the combinations of size r\n",
    "from itertools import combinations"
   ]
  },
  {
   "cell_type": "code",
   "execution_count": 37,
   "id": "4beae3ab-07b9-4b1a-912c-79b72a690543",
   "metadata": {},
   "outputs": [
    {
     "data": {
      "text/plain": [
       "\u001b[1;31mInit signature:\u001b[0m \u001b[0mcombinations\u001b[0m\u001b[1;33m(\u001b[0m\u001b[0miterable\u001b[0m\u001b[1;33m,\u001b[0m \u001b[0mr\u001b[0m\u001b[1;33m)\u001b[0m\u001b[1;33m\u001b[0m\u001b[1;33m\u001b[0m\u001b[0m\n",
       "\u001b[1;31mDocstring:\u001b[0m     \n",
       "Return successive r-length combinations of elements in the iterable.\n",
       "\n",
       "combinations(range(4), 3) --> (0,1,2), (0,1,3), (0,2,3), (1,2,3)\n",
       "\u001b[1;31mType:\u001b[0m           type\n",
       "\u001b[1;31mSubclasses:\u001b[0m     "
      ]
     },
     "metadata": {},
     "output_type": "display_data"
    }
   ],
   "source": [
    "?combinations"
   ]
  },
  {
   "cell_type": "code",
   "execution_count": 38,
   "id": "7fa9e86c-133c-4d09-b7f4-40ab6fa151a8",
   "metadata": {},
   "outputs": [],
   "source": [
    "alpha='ABCD'"
   ]
  },
  {
   "cell_type": "code",
   "execution_count": 40,
   "id": "e9b2753f-b4d9-4b83-9cda-1314b89f2ce1",
   "metadata": {},
   "outputs": [],
   "source": [
    "p=combinations(alpha,3)"
   ]
  },
  {
   "cell_type": "code",
   "execution_count": 41,
   "id": "0e1c6030-f2e8-4e11-8d34-15b291fb023f",
   "metadata": {},
   "outputs": [
    {
     "data": {
      "text/plain": [
       "<itertools.combinations at 0x229c1e13a10>"
      ]
     },
     "execution_count": 41,
     "metadata": {},
     "output_type": "execute_result"
    }
   ],
   "source": [
    "p"
   ]
  },
  {
   "cell_type": "code",
   "execution_count": 42,
   "id": "3a50f219-cab4-4fc2-9704-c217b7511949",
   "metadata": {},
   "outputs": [
    {
     "data": {
      "text/plain": [
       "[('A', 'B', 'C'), ('A', 'B', 'D'), ('A', 'C', 'D'), ('B', 'C', 'D')]"
      ]
     },
     "execution_count": 42,
     "metadata": {},
     "output_type": "execute_result"
    }
   ],
   "source": [
    "list(p)"
   ]
  },
  {
   "cell_type": "code",
   "execution_count": 43,
   "id": "73ebe5ba-a986-469b-97ce-873f23f11d6f",
   "metadata": {},
   "outputs": [],
   "source": [
    "beta=['A','B','C','D']"
   ]
  },
  {
   "cell_type": "code",
   "execution_count": 44,
   "id": "a40c170f-b5e1-4c6f-85ac-b0d884980acf",
   "metadata": {},
   "outputs": [],
   "source": [
    "q=combinations(beta,2)"
   ]
  },
  {
   "cell_type": "code",
   "execution_count": 45,
   "id": "80dcda49-5d3a-46d9-8167-9ee11b78fe62",
   "metadata": {},
   "outputs": [
    {
     "data": {
      "text/plain": [
       "[('A', 'B'), ('A', 'C'), ('A', 'D'), ('B', 'C'), ('B', 'D'), ('C', 'D')]"
      ]
     },
     "execution_count": 45,
     "metadata": {},
     "output_type": "execute_result"
    }
   ],
   "source": [
    "list(q)"
   ]
  },
  {
   "cell_type": "code",
   "execution_count": 46,
   "id": "2aac9b42-36aa-44d7-937c-ede665f2e0d4",
   "metadata": {},
   "outputs": [
    {
     "data": {
      "text/plain": [
       "[(2, 3, 5),\n",
       " (2, 3, 6),\n",
       " (2, 3, 7),\n",
       " (2, 3, 8),\n",
       " (2, 5, 6),\n",
       " (2, 5, 7),\n",
       " (2, 5, 8),\n",
       " (2, 6, 7),\n",
       " (2, 6, 8),\n",
       " (2, 7, 8),\n",
       " (3, 5, 6),\n",
       " (3, 5, 7),\n",
       " (3, 5, 8),\n",
       " (3, 6, 7),\n",
       " (3, 6, 8),\n",
       " (3, 7, 8),\n",
       " (5, 6, 7),\n",
       " (5, 6, 8),\n",
       " (5, 7, 8),\n",
       " (6, 7, 8)]"
      ]
     },
     "execution_count": 46,
     "metadata": {},
     "output_type": "execute_result"
    }
   ],
   "source": [
    "num=[2,3,5,6,7,8]\n",
    "r=combinations(num,3)\n",
    "list(r)"
   ]
  },
  {
   "cell_type": "code",
   "execution_count": 47,
   "id": "44c2c2ab-f7d9-476d-8386-e857faf5cf4a",
   "metadata": {},
   "outputs": [
    {
     "name": "stdout",
     "output_type": "stream",
     "text": [
      "(2, 3, 6)\n",
      "(2, 5, 6)\n",
      "(2, 6, 7)\n",
      "(2, 6, 8)\n",
      "(3, 5, 6)\n",
      "(3, 6, 7)\n",
      "(3, 6, 8)\n",
      "(5, 6, 7)\n",
      "(5, 6, 8)\n",
      "(6, 7, 8)\n"
     ]
    }
   ],
   "source": [
    "for c in combinations(num,3):\n",
    "    if 6 in c:\n",
    "        print(c)"
   ]
  },
  {
   "cell_type": "code",
   "execution_count": 48,
   "id": "ac3634d4-ee6b-4e0d-81f3-63833764d1d5",
   "metadata": {},
   "outputs": [
    {
     "name": "stdout",
     "output_type": "stream",
     "text": [
      "('A', 'B')\n",
      "('A', 'C')\n",
      "('A', 'D')\n"
     ]
    }
   ],
   "source": [
    "for d in combinations(beta,2):\n",
    "    if 'A' in d:\n",
    "        print(d)"
   ]
  },
  {
   "cell_type": "code",
   "execution_count": null,
   "id": "c498f944-b381-4192-9492-fc07a1cacb99",
   "metadata": {},
   "outputs": [],
   "source": []
  }
 ],
 "metadata": {
  "kernelspec": {
   "display_name": "Python 3 (ipykernel)",
   "language": "python",
   "name": "python3"
  },
  "language_info": {
   "codemirror_mode": {
    "name": "ipython",
    "version": 3
   },
   "file_extension": ".py",
   "mimetype": "text/x-python",
   "name": "python",
   "nbconvert_exporter": "python",
   "pygments_lexer": "ipython3",
   "version": "3.11.7"
  }
 },
 "nbformat": 4,
 "nbformat_minor": 5
}
